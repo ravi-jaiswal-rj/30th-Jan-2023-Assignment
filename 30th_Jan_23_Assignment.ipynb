{
  "cells": [
    {
      "cell_type": "markdown",
      "id": "6afbda90-aa02-46ab-a1be-708df6c5c134",
      "metadata": {
        "id": "6afbda90-aa02-46ab-a1be-708df6c5c134"
      },
      "source": [
        "Assignment - 30th Jan'23 "
      ]
    },
    {
      "cell_type": "markdown",
      "id": "353cf138-4d35-4507-858e-3423ba55e1b6",
      "metadata": {
        "id": "353cf138-4d35-4507-858e-3423ba55e1b6"
      },
      "source": [
        "Questions and Solutions."
      ]
    },
    {
      "cell_type": "markdown",
      "id": "b8dbeb5b-b351-47f9-a989-a712e7baed62",
      "metadata": {
        "id": "b8dbeb5b-b351-47f9-a989-a712e7baed62"
      },
      "source": [
        "\n",
        "\n",
        "Q1.Write a program to accept percantage from the user and display the grade according to the followig criteria:"
      ]
    },
    {
      "cell_type": "code",
      "execution_count": 2,
      "id": "909645b9-ab15-4a0d-b123-e56932a66bca",
      "metadata": {
        "colab": {
          "base_uri": "https://localhost:8080/"
        },
        "id": "909645b9-ab15-4a0d-b123-e56932a66bca",
        "outputId": "10362152-666f-4d50-80bf-e7f9139834cc"
      },
      "outputs": [
        {
          "output_type": "stream",
          "name": "stdout",
          "text": [
            "Please Enter Your Percentage : 99\n",
            "Your Grade is A\n"
          ]
        }
      ],
      "source": [
        "marks = int(input(\"Please Enter Your Percentage : \"))\n",
        "\n",
        "if marks > 100:\n",
        "    print(\"Sorry Your input is invalid,Please Enter Your Percentage between 0 to 100\")\n",
        "    \n",
        "elif marks > 90:\n",
        "    print(\"Your Grade is A\")\n",
        "    \n",
        "elif marks > 80 and marks <= 90:\n",
        "    print(\"Your Grade is B\")\n",
        "    \n",
        "elif marks >= 60 and marks <= 80:\n",
        "    print(\"Your Grade is C\")\n",
        "    \n",
        "elif marks < 60:\n",
        "    print(\"Your Grade is D\")\n",
        "    \n",
        "else:\n",
        "    print(\"You Can Check Your Percentage Here with Valid Inputs\")"
      ]
    },
    {
      "cell_type": "markdown",
      "id": "adc7883f-a7e1-47ef-8fe0-66ebf3fa14cb",
      "metadata": {
        "id": "adc7883f-a7e1-47ef-8fe0-66ebf3fa14cb"
      },
      "source": [
        "Q2.Write a program to accept the cost price of a bike and display the road tax to be paid according to the following criteria:"
      ]
    },
    {
      "cell_type": "code",
      "execution_count": 3,
      "id": "0f1c3bb3-d09e-4667-834e-21f470e4c29a",
      "metadata": {
        "colab": {
          "base_uri": "https://localhost:8080/"
        },
        "id": "0f1c3bb3-d09e-4667-834e-21f470e4c29a",
        "outputId": "626fbc9f-081e-4617-9ed4-61f2a4cd40bf"
      },
      "outputs": [
        {
          "output_type": "stream",
          "name": "stdout",
          "text": [
            "Please Enter Your Cost Price of a Bike : 55000\n",
            "The road tax to be paid is 10%\n"
          ]
        }
      ],
      "source": [
        "price = int(input(\"Please Enter Your Cost Price of a Bike : \"))\n",
        "\n",
        "if price > 100000:\n",
        "    print(\"The road tax to be paid is 15%\")\n",
        "    \n",
        "elif price > 50000 and price <= 100000:\n",
        "    print(\"The road tax to be paid is 10%\")\n",
        "    \n",
        "elif price <= 50000:\n",
        "    print(\"The road tax to be paid is 5%\")"
      ]
    },
    {
      "cell_type": "markdown",
      "id": "33d5fb45-d4c8-44ec-ba74-99906e6ac623",
      "metadata": {
        "id": "33d5fb45-d4c8-44ec-ba74-99906e6ac623"
      },
      "source": [
        "Q3.Accept any city from the user and display monuments of that city."
      ]
    },
    {
      "cell_type": "code",
      "execution_count": 4,
      "id": "19c7bc71-d641-409f-a7ca-acc57ad96b51",
      "metadata": {
        "colab": {
          "base_uri": "https://localhost:8080/"
        },
        "id": "19c7bc71-d641-409f-a7ca-acc57ad96b51",
        "outputId": "498dc32d-f753-4458-adb8-c02103592e82"
      },
      "outputs": [
        {
          "output_type": "stream",
          "name": "stdout",
          "text": [
            "Enter City : Delhi\n",
            "The monument of Delhi is Red Fort\n"
          ]
        }
      ],
      "source": [
        "city = input(\"Enter City : \")\n",
        "city1 = city.title()\n",
        "\n",
        "if city1 == \"Delhi\":\n",
        "    print(\"The monument of Delhi is Red Fort\")\n",
        "    \n",
        "elif city1 == \"Agra\":\n",
        "    print(\"The monument of Agra is Taj Mahal\")\n",
        "    \n",
        "elif city1 == \"Jaipur\":\n",
        "    print(\"The monument of Jaipur is Jal Mahal\")\n",
        "    \n",
        "else:\n",
        "    print(\"Invalid Input.\\nPlease Enter City Delhi, Agra and Jaipur only.\")\n",
        "    "
      ]
    },
    {
      "cell_type": "markdown",
      "id": "3dd29aa2-d15a-4a66-8b65-0518ca12ea55",
      "metadata": {
        "id": "3dd29aa2-d15a-4a66-8b65-0518ca12ea55"
      },
      "source": [
        "Q4.Check how many times a given number can be divided by 3 before it is less than or equal to 10."
      ]
    },
    {
      "cell_type": "code",
      "execution_count": 5,
      "id": "16860909-89b9-4955-9f69-1c0be457f0f4",
      "metadata": {
        "colab": {
          "base_uri": "https://localhost:8080/"
        },
        "id": "16860909-89b9-4955-9f69-1c0be457f0f4",
        "outputId": "3e6d61be-7498-4ebb-9f4c-de6618e9779e"
      },
      "outputs": [
        {
          "name": "stdout",
          "output_type": "stream",
          "text": [
            "Enter Your Number : 999999\n"
          ]
        },
        {
          "output_type": "execute_result",
          "data": {
            "text/plain": [
              "3"
            ]
          },
          "metadata": {},
          "execution_count": 5
        }
      ],
      "source": [
        "num = int(input(\"Enter Your Number : \"))\n",
        "count = 0\n",
        "\n",
        "while num >= 10 and num % 3 == 0:\n",
        "    num = num/3\n",
        "    count = count + 1\n",
        "\n",
        "count"
      ]
    },
    {
      "cell_type": "markdown",
      "id": "5469d7ca-e7c4-4e14-8b1e-414fea229c09",
      "metadata": {
        "id": "5469d7ca-e7c4-4e14-8b1e-414fea229c09"
      },
      "source": [
        "Q5.Why and When to Use while Loop in Python give a detailed description with example?"
      ]
    },
    {
      "cell_type": "markdown",
      "id": "10b453ea-e27a-45be-9691-1467ae720736",
      "metadata": {
        "id": "10b453ea-e27a-45be-9691-1467ae720736"
      },
      "source": [
        "A while loop in Python is used to repeatedly execute a block of code as long as a certain condition is met."
      ]
    },
    {
      "cell_type": "markdown",
      "id": "0f3cd9f1-5578-4815-a06b-f407a120b52c",
      "metadata": {
        "id": "0f3cd9f1-5578-4815-a06b-f407a120b52c"
      },
      "source": [
        "The condition is evaluated before each iteration of the loop. If the condition is True, the code inside the loop is executed, and the process repeats until the condition is False.\n",
        "\n",
        "If the condition is False from the start, the code inside the loop is not executed at all."
      ]
    },
    {
      "cell_type": "code",
      "execution_count": 6,
      "id": "dbd9ff4f-f989-4a78-8d72-8f153ff5ff98",
      "metadata": {
        "colab": {
          "base_uri": "https://localhost:8080/"
        },
        "id": "dbd9ff4f-f989-4a78-8d72-8f153ff5ff98",
        "outputId": "50d2950b-a391-4a20-9b60-5261b53293ef"
      },
      "outputs": [
        {
          "output_type": "stream",
          "name": "stdout",
          "text": [
            "10\n",
            "9\n",
            "8\n",
            "7\n",
            "6\n",
            "5\n",
            "4\n",
            "3\n",
            "2\n",
            "1\n",
            "0\n"
          ]
        }
      ],
      "source": [
        "# Example:\n",
        "\n",
        "n = 10\n",
        "\n",
        "while n >= 0 :\n",
        "    print(n)\n",
        "    n = n - 1"
      ]
    },
    {
      "cell_type": "code",
      "execution_count": null,
      "id": "c5ceb30b-ecdb-41f4-ab65-96b07fc33277",
      "metadata": {
        "id": "c5ceb30b-ecdb-41f4-ab65-96b07fc33277"
      },
      "outputs": [],
      "source": [
        "n"
      ]
    },
    {
      "cell_type": "markdown",
      "id": "4f9c1c19-d169-45cb-abf4-ca7362a288c6",
      "metadata": {
        "id": "4f9c1c19-d169-45cb-abf4-ca7362a288c6"
      },
      "source": [
        "In above example,we let n = 10 and we are passing it in while loop with a condition , when n is greater than or equal to 0 then print n and decrement n by 1.\n",
        "\n",
        "So,in first iteration it prints 10 and decremented by 1 to become n = 9,in second iteration it prints 9 and decremented by 1 to become n  = 8 and so on.\n",
        "\n",
        "But whenever n is less than 0,then condition becomes false and Python interpreter will exit the while loop."
      ]
    },
    {
      "cell_type": "code",
      "execution_count": null,
      "id": "4bbf1a3d-4a88-4f46-8954-63050f31bd0b",
      "metadata": {
        "id": "4bbf1a3d-4a88-4f46-8954-63050f31bd0b"
      },
      "outputs": [],
      "source": []
    },
    {
      "cell_type": "markdown",
      "id": "d635d7c1-9b0b-4994-b375-dc55927e7efc",
      "metadata": {
        "id": "d635d7c1-9b0b-4994-b375-dc55927e7efc"
      },
      "source": [
        "Q6.Use nested while loop to print 3 different pattern."
      ]
    },
    {
      "cell_type": "markdown",
      "source": [
        "This is my pattern number one."
      ],
      "metadata": {
        "id": "tn3nX_QWJpaa"
      },
      "id": "tn3nX_QWJpaa"
    },
    {
      "cell_type": "code",
      "execution_count": 10,
      "id": "719cae18-c74c-4853-b125-b60934ec08ca",
      "metadata": {
        "colab": {
          "base_uri": "https://localhost:8080/"
        },
        "id": "719cae18-c74c-4853-b125-b60934ec08ca",
        "outputId": "1dcb70c3-aa09-453e-a167-5e6ce2e1eb8b"
      },
      "outputs": [
        {
          "output_type": "stream",
          "name": "stdout",
          "text": [
            "Enter number of rows: 5\n",
            "*  *  *  *  *  \n",
            "*  *  *  *  \n",
            "*  *  *  \n",
            "*  *  \n",
            "*  \n"
          ]
        }
      ],
      "source": [
        "rows = int(input(\"Enter number of rows: \"))\n",
        "\n",
        "for i in range(rows, 0, -1):\n",
        "    for j in range(0, i):\n",
        "        print(\"* \", end=\" \")\n",
        "    print(\"\\r\")"
      ]
    },
    {
      "cell_type": "markdown",
      "source": [
        "Now,this is my pattern number two."
      ],
      "metadata": {
        "id": "AHaJNKdVJgzM"
      },
      "id": "AHaJNKdVJgzM"
    },
    {
      "cell_type": "code",
      "source": [
        "i=1\n",
        "while i<=5:\n",
        "    j=1\n",
        "    while j<=i:\n",
        "        print(j,end=\" \")\n",
        "        j=j+1\n",
        "    print(\"\\r\")\n",
        "    i=i+1"
      ],
      "metadata": {
        "colab": {
          "base_uri": "https://localhost:8080/"
        },
        "id": "8OcaIzESKD9H",
        "outputId": "7a27dca8-2128-4116-e31d-cd35cbb0542a"
      },
      "id": "8OcaIzESKD9H",
      "execution_count": 11,
      "outputs": [
        {
          "output_type": "stream",
          "name": "stdout",
          "text": [
            "1 \r\n",
            "1 2 \r\n",
            "1 2 3 \r\n",
            "1 2 3 4 \r\n",
            "1 2 3 4 5 \r\n"
          ]
        }
      ]
    },
    {
      "cell_type": "markdown",
      "source": [
        "And the third pattern is - "
      ],
      "metadata": {
        "id": "72VjqbVSKKga"
      },
      "id": "72VjqbVSKKga"
    },
    {
      "cell_type": "code",
      "source": [
        "rows = int(input(\"Enter number of rows: \"))\n",
        "\n",
        "for i in range(rows,1,-1):\n",
        "    for space in range(0, rows-i):\n",
        "        print(\"  \", end=\"\")\n",
        "    for j in range(i, 2*i-1):\n",
        "        print(\"* \", end=\"\")\n",
        "    for j in range(1, i-1):\n",
        "        print(\"* \", end=\"\")\n",
        "    print()"
      ],
      "metadata": {
        "colab": {
          "base_uri": "https://localhost:8080/"
        },
        "id": "-naprbLiKRgO",
        "outputId": "20687ab0-8e47-4837-fa78-331d71c3d639"
      },
      "id": "-naprbLiKRgO",
      "execution_count": 12,
      "outputs": [
        {
          "output_type": "stream",
          "name": "stdout",
          "text": [
            "Enter number of rows: 6\n",
            "* * * * * * * * * \n",
            "  * * * * * * * \n",
            "    * * * * * \n",
            "      * * * \n",
            "        * \n"
          ]
        }
      ]
    },
    {
      "cell_type": "markdown",
      "id": "f54782b6-9a62-495f-a411-95badd733796",
      "metadata": {
        "id": "f54782b6-9a62-495f-a411-95badd733796"
      },
      "source": [
        "Q7.Reverse a while loop to display numbers from 10 to 1."
      ]
    },
    {
      "cell_type": "code",
      "execution_count": 8,
      "id": "c15af1b2-6cda-4f10-9039-ca9f268d5a7c",
      "metadata": {
        "colab": {
          "base_uri": "https://localhost:8080/"
        },
        "id": "c15af1b2-6cda-4f10-9039-ca9f268d5a7c",
        "outputId": "ed801368-b55a-4395-fbe4-882c3baa291d"
      },
      "outputs": [
        {
          "output_type": "stream",
          "name": "stdout",
          "text": [
            "10\n",
            "9\n",
            "8\n",
            "7\n",
            "6\n",
            "5\n",
            "4\n",
            "3\n",
            "2\n",
            "1\n"
          ]
        }
      ],
      "source": [
        "n = 10\n",
        "\n",
        "while n > 0 :\n",
        "    print(n)\n",
        "    n = n-1"
      ]
    },
    {
      "cell_type": "code",
      "execution_count": null,
      "id": "f0027cdf-84d4-406a-b352-8e205c033a1c",
      "metadata": {
        "id": "f0027cdf-84d4-406a-b352-8e205c033a1c"
      },
      "outputs": [],
      "source": []
    },
    {
      "cell_type": "markdown",
      "id": "bf7e43c7-c5bc-48ad-ac39-957f4f066e06",
      "metadata": {
        "id": "bf7e43c7-c5bc-48ad-ac39-957f4f066e06"
      },
      "source": [
        "Q8.Reverse a while loop to display numbers from 10 to 1."
      ]
    },
    {
      "cell_type": "code",
      "execution_count": 9,
      "id": "a534e131-3b32-4ade-9af3-297ff7cc8ac6",
      "metadata": {
        "colab": {
          "base_uri": "https://localhost:8080/"
        },
        "id": "a534e131-3b32-4ade-9af3-297ff7cc8ac6",
        "outputId": "0281a628-0330-4b18-b04d-7d69e71b00cd"
      },
      "outputs": [
        {
          "output_type": "stream",
          "name": "stdout",
          "text": [
            "10\n",
            "9\n",
            "8\n",
            "7\n",
            "6\n",
            "5\n",
            "4\n",
            "3\n",
            "2\n",
            "1\n"
          ]
        }
      ],
      "source": [
        "n = 10\n",
        "\n",
        "while n > 0 :\n",
        "    print(n)\n",
        "    n = n-1"
      ]
    },
    {
      "cell_type": "code",
      "execution_count": null,
      "id": "0b2cc22a-c66e-458f-98b4-cbb6230e6f5e",
      "metadata": {
        "id": "0b2cc22a-c66e-458f-98b4-cbb6230e6f5e"
      },
      "outputs": [],
      "source": []
    }
  ],
  "metadata": {
    "kernelspec": {
      "display_name": "Python 3 (ipykernel)",
      "language": "python",
      "name": "python3"
    },
    "language_info": {
      "codemirror_mode": {
        "name": "ipython",
        "version": 3
      },
      "file_extension": ".py",
      "mimetype": "text/x-python",
      "name": "python",
      "nbconvert_exporter": "python",
      "pygments_lexer": "ipython3",
      "version": "3.10.8"
    },
    "colab": {
      "provenance": []
    }
  },
  "nbformat": 4,
  "nbformat_minor": 5
}